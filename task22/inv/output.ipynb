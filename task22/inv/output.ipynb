{
 "cells": [
  {
   "cell_type": "code",
   "execution_count": 1,
   "metadata": {},
   "outputs": [
    {
     "name": "stdout",
     "output_type": "stream",
     "text": [
      "Intel MKL WARNING: Support of Intel(R) Streaming SIMD Extensions 4.2 (Intel(R) SSE4.2) enabled only processors has been deprecated. Intel oneAPI Math Kernel Library 2025.0 will require Intel(R) Advanced Vector Extensions (Intel(R) AVX) instructions.\n",
      "Intel MKL WARNING: Support of Intel(R) Streaming SIMD Extensions 4.2 (Intel(R) SSE4.2) enabled only processors has been deprecated. Intel oneAPI Math Kernel Library 2025.0 will require Intel(R) Advanced Vector Extensions (Intel(R) AVX) instructions.\n"
     ]
    }
   ],
   "source": [
    "import os, sys\n",
    "import pandas as pd\n",
    "from pathlib import Path\n",
    "\n",
    "if os.path.exists(os.path.abspath('../src')):\n",
    "    sys.path.append(os.path.abspath('../src'))\n",
    "\n",
    "from feat_build import main\n",
    "from model_build import train"
   ]
  },
  {
   "cell_type": "code",
   "execution_count": 2,
   "metadata": {},
   "outputs": [
    {
     "name": "stdout",
     "output_type": "stream",
     "text": [
      "web_usage exists...\n",
      "sw_usage exists...\n",
      "temp exists...\n",
      "cpu_util exists...\n",
      "power exists...\n",
      "Loading raw data...\n",
      "Processing raw data...\n",
      "Processing sysinfo data...\n"
     ]
    },
    {
     "name": "stderr",
     "output_type": "stream",
     "text": [
      "/Volumes/XtremeSSD/CapstoneIntelDP/Data_Intel_Globus/REPO_CLONE/src/feat_build/sysinfo_process.py:25: SettingWithCopyWarning: \n",
      "A value is trying to be set on a copy of a slice from a DataFrame\n",
      "\n",
      "See the caveats in the documentation: https://pandas.pydata.org/pandas-docs/stable/user_guide/indexing.html#returning-a-view-versus-a-copy\n",
      "  sysinfo.replace({'n/a': 'Unknown', 'N/A': 'Unknown'}, inplace=True)\n",
      "/Volumes/XtremeSSD/CapstoneIntelDP/Data_Intel_Globus/REPO_CLONE/src/feat_build/sysinfo_process.py:28: SettingWithCopyWarning: \n",
      "A value is trying to be set on a copy of a slice from a DataFrame.\n",
      "Try using .loc[row_indexer,col_indexer] = value instead\n",
      "\n",
      "See the caveats in the documentation: https://pandas.pydata.org/pandas-docs/stable/user_guide/indexing.html#returning-a-view-versus-a-copy\n",
      "  sysinfo['cpu_suffix'] = sysinfo['cpu_suffix'].apply(lambda x: x if 'Core' in x else 'Other')\n",
      "/Volumes/XtremeSSD/CapstoneIntelDP/Data_Intel_Globus/REPO_CLONE/src/feat_build/sysinfo_process.py:31: SettingWithCopyWarning: \n",
      "A value is trying to be set on a copy of a slice from a DataFrame.\n",
      "Try using .loc[row_indexer,col_indexer] = value instead\n",
      "\n",
      "See the caveats in the documentation: https://pandas.pydata.org/pandas-docs/stable/user_guide/indexing.html#returning-a-view-versus-a-copy\n",
      "  sysinfo['screensize_category'] = sysinfo['screensize_category'].str.replace('x', '').replace(screensize_mapping)\n",
      "/Volumes/XtremeSSD/CapstoneIntelDP/Data_Intel_Globus/REPO_CLONE/src/feat_build/sysinfo_process.py:88: SettingWithCopyWarning: \n",
      "A value is trying to be set on a copy of a slice from a DataFrame.\n",
      "Try using .loc[row_indexer,col_indexer] = value instead\n",
      "\n",
      "See the caveats in the documentation: https://pandas.pydata.org/pandas-docs/stable/user_guide/indexing.html#returning-a-view-versus-a-copy\n",
      "  chastype['portable'] = chastype['chassistype'].isin(portable).astype(int)\n"
     ]
    },
    {
     "name": "stdout",
     "output_type": "stream",
     "text": [
      "Joining and standardizing data...\n",
      "Writing features to disk...\n",
      "Feature processing complete! feat.parquet saved to /Volumes/XtremeSSD/CapstoneIntelDP/Data_Intel_Globus/REPO_CLONE/inv/out\n"
     ]
    }
   ],
   "source": [
    "inv_dir = Path(os.getcwd())\n",
    "proj_dir = inv_dir.parent\n",
    "\n",
    "sample_guids_parquet = 'sample_guid_10000_china_us.parquet'\n",
    "\n",
    "if 'feat.parquet' not in os.listdir(inv_dir / 'out'):\n",
    "    main.generate_features(sample_guids_parquet, inv_dir)"
   ]
  },
  {
   "cell_type": "code",
   "execution_count": 5,
   "metadata": {},
   "outputs": [],
   "source": [
    "feat = pd.read_parquet(os.path.join('out', 'feat.parquet'))"
   ]
  },
  {
   "cell_type": "code",
   "execution_count": 6,
   "metadata": {},
   "outputs": [
    {
     "name": "stdout",
     "output_type": "stream",
     "text": [
      "Test MSE: 10.36\n"
     ]
    }
   ],
   "source": [
    "test_mse, feat_dict, r2 = train.train(feat)"
   ]
  },
  {
   "cell_type": "code",
   "execution_count": 7,
   "metadata": {},
   "outputs": [
    {
     "data": {
      "text/plain": [
       "0.6521609211717979"
      ]
     },
     "execution_count": 7,
     "metadata": {},
     "output_type": "execute_result"
    }
   ],
   "source": [
    "r2"
   ]
  },
  {
   "cell_type": "code",
   "execution_count": 8,
   "metadata": {},
   "outputs": [
    {
     "data": {
      "text/plain": [
       "{'sw_category_Development & Programming (IDEs, Text Editors, Version Control)': -9966065216.910608,\n",
       " 'sw_category_Gaming (Casual, Online & Offline)': -29836274931.001907,\n",
       " 'sw_category_Multimedia Editing (Audio & Video)': -20226995207.55371,\n",
       " 'sw_category_Other': -1346172734820.7742,\n",
       " 'sw_category_Productivity & Office': -85037204320.80908,\n",
       " 'sw_category_Security & Network': -17177768614.561829,\n",
       " 'sw_category_Simulation & Virtual Reality': -19604508742.090942,\n",
       " 'sw_category_System & Utilities': -14228456882.803772,\n",
       " 'sw_category_Web Browsers & Communication': -212720449044.3955,\n",
       " 'sw_event_name_DC_DISPLAY_OFF': 1349139339109.742,\n",
       " 'sw_event_name_DC_DISPLAY_ON': 214231547217.96832,\n",
       " 'temp_avg': 2.925811767578125,\n",
       " 'web_parent_category_content creation': -1817320873144.1282,\n",
       " 'web_parent_category_education': -4129294082367.8,\n",
       " 'web_parent_category_entertainment': 6862452373127.241,\n",
       " 'web_parent_category_finance': 545299703771.33685,\n",
       " 'web_parent_category_games': 882057609166.5731,\n",
       " 'web_parent_category_mail': -711219997789.2192,\n",
       " 'web_parent_category_news': -557484329999.2589,\n",
       " 'web_parent_category_other': 4407660593438.249,\n",
       " 'web_parent_category_private': 1437430272688.5515,\n",
       " 'web_parent_category_productivity': 5426990092194.151,\n",
       " 'web_parent_category_recreation': -825986620364.2361,\n",
       " 'web_parent_category_reference': 2038625773319.1523,\n",
       " 'web_parent_category_search': 4459469616400.649,\n",
       " 'web_parent_category_shopping': 2218860966326.6494,\n",
       " 'web_parent_category_social': -799737587124.9266,\n",
       " 'web_sub_category_banking and accounting': -545299703771.3472,\n",
       " 'web_sub_category_communication': 351929587264.1828,\n",
       " 'web_sub_category_communication - live': 204903338484.66556,\n",
       " 'web_sub_category_crm': -4829416469.825541,\n",
       " 'web_sub_category_education': 4129294082367.8647,\n",
       " 'web_sub_category_mail': 711219997789.2335,\n",
       " 'web_sub_category_music / audio streaming': -321354653373.5369,\n",
       " 'web_sub_category_news': 557484329999.2365,\n",
       " 'web_sub_category_other': -4773351155556.201,\n",
       " 'web_sub_category_photo edit/creation': 630231061632.3832,\n",
       " 'web_sub_category_presentations': -599304499946.2528,\n",
       " 'web_sub_category_private': -1437430272688.601,\n",
       " 'web_sub_category_programming': -183000481070.58304,\n",
       " 'web_sub_category_project management': -439796932751.9755,\n",
       " 'web_sub_category_reference': -2038625773319.1658,\n",
       " 'web_sub_category_search': -4459469616400.645,\n",
       " 'web_sub_category_shopping': -2218860966326.6475,\n",
       " 'web_sub_category_social network': 684237823803.1577,\n",
       " 'web_sub_category_spreadsheets': -976793478599.3274,\n",
       " 'web_sub_category_travel': 825986620364.2257,\n",
       " 'web_sub_category_unclassified': -4407660593438.254,\n",
       " 'web_sub_category_video games': -30138114284.39703,\n",
       " 'web_sub_category_video streaming': -6394819626039.075,\n",
       " 'web_sub_category_video/audio edit/creation': 58576873980.605156,\n",
       " 'web_sub_category_web design / development': 1702603327920.1863,\n",
       " 'web_sub_category_word processing': -3417352029778.6226,\n",
       " 'cpu_norm_usage': 0.7783203125,\n",
       " 'nrs': 0.065826416015625,\n",
       " 'countryname_normalized_Argentina': -84018657154.99219,\n",
       " 'countryname_normalized_Australia': -18304936210.20777,\n",
       " 'countryname_normalized_Austria': -1224895204362.3906,\n",
       " 'countryname_normalized_Bangladesh': -1173083665900.4712,\n",
       " 'countryname_normalized_Belgium': 1274033233806.2168,\n",
       " 'countryname_normalized_Brazil': 1450588784513.3796,\n",
       " 'countryname_normalized_Canada': -2261052034863.497,\n",
       " 'countryname_normalized_Chile': -819444009513.966,\n",
       " 'countryname_normalized_China': 530714007930.9835,\n",
       " 'countryname_normalized_Colombia': -478336013005.29535,\n",
       " 'countryname_normalized_Czech Republic': -119772342087.59042,\n",
       " 'countryname_normalized_Denmark': -684105749539.4712,\n",
       " 'countryname_normalized_Ecuador': 189172634799.15405,\n",
       " 'countryname_normalized_Egypt': 975916765686.6372,\n",
       " 'countryname_normalized_France': 123642800112.82913,\n",
       " 'countryname_normalized_Germany': 94912470969.05843,\n",
       " 'countryname_normalized_Greece': -380434281769.3116,\n",
       " 'countryname_normalized_Hong Kong': -172246742326.72037,\n",
       " 'countryname_normalized_Hungary': -57295387940.19352,\n",
       " 'countryname_normalized_India': 314927446624.8663,\n",
       " 'countryname_normalized_Indonesia': 85012141453.4807,\n",
       " 'countryname_normalized_Israel': -36342240177.988045,\n",
       " 'countryname_normalized_Italy': 5067674740.399342,\n",
       " 'countryname_normalized_Japan': 233362282939.1819,\n",
       " 'countryname_normalized_Korea, Republic of': 73827078389.28107,\n",
       " 'countryname_normalized_Malaysia': -61909205789.74685,\n",
       " 'countryname_normalized_Mexico': -26292838575.84061,\n",
       " 'countryname_normalized_Netherlands': -13410375215.6766,\n",
       " 'countryname_normalized_Norway': -19018213533.22139,\n",
       " 'countryname_normalized_Other': 15303601925.75865,\n",
       " 'countryname_normalized_Pakistan': 43590606759.41302,\n",
       " 'countryname_normalized_Peru': -3530502594.649826,\n",
       " 'countryname_normalized_Philippines': 6682830028.645107,\n",
       " 'countryname_normalized_Poland': 1794915338.7880936,\n",
       " 'countryname_normalized_Portugal': -3124117308.681571,\n",
       " 'countryname_normalized_Romania': -16389769162.699245,\n",
       " 'countryname_normalized_Russian Federation': -16420878374.830858,\n",
       " 'countryname_normalized_Saudi Arabia': -22603665433.3293,\n",
       " 'countryname_normalized_Singapore': 4399397855.312575,\n",
       " 'countryname_normalized_South Africa': 20287240773.9308,\n",
       " 'countryname_normalized_Spain': 9343071166.398762,\n",
       " 'countryname_normalized_Sweden': 11708616437.698494,\n",
       " 'countryname_normalized_Switzerland': -7365558389.339016,\n",
       " 'countryname_normalized_Taiwan, Province of China': 1845095969.8924143,\n",
       " 'countryname_normalized_Thailand': -79674804.90619016,\n",
       " 'countryname_normalized_Turkey': 7740251192.782366,\n",
       " 'countryname_normalized_Ukraine': -235655911.85855746,\n",
       " 'countryname_normalized_United Arab Emirates': -1934019892.8787038,\n",
       " 'countryname_normalized_United Kingdom of Great Britain and Northern Ireland': 2142005642.8077962,\n",
       " 'countryname_normalized_United States of America': 530714007930.26544,\n",
       " 'countryname_normalized_Viet Nam': 387942388.1900336,\n",
       " 'modelvendor_normalized_AZW': -5488356.440397374,\n",
       " 'modelvendor_normalized_Acer': 4254385278450.978,\n",
       " 'modelvendor_normalized_Alienware': 4254385278450.128,\n",
       " 'modelvendor_normalized_Apple': 4254385278449.281,\n",
       " 'modelvendor_normalized_Asus': 4254385278451.0757,\n",
       " 'modelvendor_normalized_Biostar': 222145314.87329102,\n",
       " 'modelvendor_normalized_Casper Bilgisayar': -361442001.5390625,\n",
       " 'modelvendor_normalized_Clevo': 4254385278436.1255,\n",
       " 'modelvendor_normalized_Colorful Technology And Development Co.,LTD': -0.00390625,\n",
       " 'modelvendor_normalized_Dell': 4254385278450.4297,\n",
       " 'modelvendor_normalized_ECS': 0.00048828125,\n",
       " 'modelvendor_normalized_Fujitsu': 4254385278451.4346,\n",
       " 'modelvendor_normalized_GPD': 4254385278458.554,\n",
       " 'modelvendor_normalized_Gateway': -0.001953125,\n",
       " 'modelvendor_normalized_Gigabyte': 4254385278450.2695,\n",
       " 'modelvendor_normalized_HANSUNG COMPUTER': 0.0,\n",
       " 'modelvendor_normalized_HP': 4254385278451.1226,\n",
       " 'modelvendor_normalized_HUAWEI': 4254385278451.037,\n",
       " 'modelvendor_normalized_Hasee': 4254385278452.233,\n",
       " 'modelvendor_normalized_Intel': 4254385278454.1523,\n",
       " 'modelvendor_normalized_LG': 4254385278448.69,\n",
       " 'modelvendor_normalized_Lenovo': 4254385278451.738,\n",
       " 'modelvendor_normalized_MECHREVO': 4254385278457.424,\n",
       " 'modelvendor_normalized_MONSTER': 0.0,\n",
       " 'modelvendor_normalized_MSI': 4254385278451.17,\n",
       " 'modelvendor_normalized_Medion': 4254385278452.711,\n",
       " 'modelvendor_normalized_Microsoft Corporation': 0.0,\n",
       " 'modelvendor_normalized_Mouse Computer': 4254385278447.1187,\n",
       " 'modelvendor_normalized_NEC': 0.0,\n",
       " 'modelvendor_normalized_Notebook': 4254385278452.662,\n",
       " 'modelvendor_normalized_O.E.M': 4254385278452.3994,\n",
       " 'modelvendor_normalized_Other': 4254385278452.237,\n",
       " 'modelvendor_normalized_PCWARE': 0.0,\n",
       " 'modelvendor_normalized_Packard Bell': 0.0,\n",
       " 'modelvendor_normalized_Panasonic Corporation': 4254385278452.913,\n",
       " 'modelvendor_normalized_Positivo': 0.0,\n",
       " 'modelvendor_normalized_Razer': 4254385278450.2964,\n",
       " 'modelvendor_normalized_Samsung': 4254385278450.1675,\n",
       " 'modelvendor_normalized_Shinelon Computer': 4254385278450.1836,\n",
       " 'modelvendor_normalized_Sony': 0.0,\n",
       " 'modelvendor_normalized_Supermicro': 0.0,\n",
       " 'modelvendor_normalized_THUNDEROBOT': 4254385278454.5713,\n",
       " 'modelvendor_normalized_TIMI': 4254385278452.7554,\n",
       " 'modelvendor_normalized_Thirdwave Corporation': 0.0,\n",
       " 'modelvendor_normalized_Timi': 4254385278449.6865,\n",
       " 'modelvendor_normalized_Toshiba': 4254385278450.7524,\n",
       " 'modelvendor_normalized_Unknown': 4254385278450.8115,\n",
       " 'modelvendor_normalized_Wortmann_AG': 4254385278451.166,\n",
       " 'os_Unknown': 0.0,\n",
       " 'os_Win Server': 0.0,\n",
       " 'os_Win10': 2791596045550.4385,\n",
       " 'os_Win11': 2791596045550.2505,\n",
       " 'os_Win7': 0.0,\n",
       " 'os_Win8': 0.0,\n",
       " 'os_Win8.1': 0.0,\n",
       " 'graphicsmanuf_AMD': -117486084908.999,\n",
       " 'graphicsmanuf_Intel': -117486084908.21855,\n",
       " 'graphicsmanuf_Nvidia': -117486084907.98802,\n",
       " 'graphicsmanuf_Other': -117486084907.53673,\n",
       " 'cpu_family_Atom': 0.0,\n",
       " 'cpu_family_Core M': -289345462197.4429,\n",
       " 'cpu_family_Core i3': -289345462198.89417,\n",
       " 'cpu_family_Core i5': -289345462200.5051,\n",
       " 'cpu_family_Core i7': -289345462200.0783,\n",
       " 'cpu_family_Core i9': -289345462199.76636,\n",
       " 'cpu_family_Core2': 0.0,\n",
       " 'cpu_family_Other': -289345462180.3648,\n",
       " 'cpu_family_Pentium/Celeron': -289345462199.89624,\n",
       " 'cpu_family_Xeon': -289345462200.595,\n",
       " 'cpu_suffix_Core-C': 0.0,\n",
       " 'cpu_suffix_Core-E': 0.0,\n",
       " 'cpu_suffix_Core-G': -1844573966576.3765,\n",
       " 'cpu_suffix_Core-H': -1844573966574.2075,\n",
       " 'cpu_suffix_Core-K': -1844573966568.954,\n",
       " 'cpu_suffix_Core-M': 0.0,\n",
       " 'cpu_suffix_Core-No suffix': -1844573966569.5618,\n",
       " 'cpu_suffix_Core-P': 0.0,\n",
       " 'cpu_suffix_Core-R': 0.0,\n",
       " 'cpu_suffix_Core-S': 0.0,\n",
       " 'cpu_suffix_Core-T': 0.0,\n",
       " 'cpu_suffix_Core-U': -1844573966575.718,\n",
       " 'cpu_suffix_Core-X': 0.0,\n",
       " 'cpu_suffix_Core-Y': -1844573966578.2192,\n",
       " 'cpu_suffix_Core2 Duo': 0.0,\n",
       " 'cpu_suffix_Core2 Extreme': 0.0,\n",
       " 'cpu_suffix_Core2 Quad': 0.0,\n",
       " 'cpu_suffix_Core2 Solo': 0.0,\n",
       " 'cpu_suffix_Other': -1844573966574.7068,\n",
       " 'persona_Casual Gamer': 94435423627.53473,\n",
       " 'persona_Casual User': 94435423627.80434,\n",
       " 'persona_Communication': 94435423626.7103,\n",
       " 'persona_Content Creator/IT': 94435423627.26767,\n",
       " 'persona_Entertainment': 94435423626.88144,\n",
       " 'persona_File & Network Sharer': 94435423626.99496,\n",
       " 'persona_Gamer': 94435423627.87433,\n",
       " 'persona_Office/Productivity': 94435423627.00761,\n",
       " 'persona_Unknown': 94435423626.66452,\n",
       " 'persona_Web User': 94435423627.43817,\n",
       " 'persona_Win Store App User': 94435423628.3978,\n",
       " 'age_category': 0.4107666015625,\n",
       " 'ram': 276.9571245908737,\n",
       " '#ofcores': 1.8390960693359375,\n",
       " 'screensize_category': 2.096099853515625,\n",
       " 'day_of_week': -0.023681640625,\n",
       " 'month_of_year': -0.016998291015625}"
      ]
     },
     "execution_count": 8,
     "metadata": {},
     "output_type": "execute_result"
    }
   ],
   "source": [
    "feat_dict"
   ]
  },
  {
   "cell_type": "code",
   "execution_count": null,
   "metadata": {},
   "outputs": [],
   "source": []
  }
 ],
 "metadata": {
  "kernelspec": {
   "display_name": "cse156",
   "language": "python",
   "name": "python3"
  },
  "language_info": {
   "codemirror_mode": {
    "name": "ipython",
    "version": 3
   },
   "file_extension": ".py",
   "mimetype": "text/x-python",
   "name": "python",
   "nbconvert_exporter": "python",
   "pygments_lexer": "ipython3",
   "version": "3.11.11"
  },
  "orig_nbformat": 4
 },
 "nbformat": 4,
 "nbformat_minor": 2
}
